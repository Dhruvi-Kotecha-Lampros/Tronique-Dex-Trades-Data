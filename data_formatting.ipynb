{
 "cells": [
  {
   "cell_type": "code",
   "execution_count": 2,
   "metadata": {},
   "outputs": [],
   "source": [
    "import pandas as pd\n",
    "import ast"
   ]
  },
  {
   "cell_type": "code",
   "execution_count": 12,
   "metadata": {},
   "outputs": [],
   "source": [
    "data = pd.read_csv(r'tron_dex_trades_data2.csv')"
   ]
  },
  {
   "cell_type": "code",
   "execution_count": 13,
   "metadata": {},
   "outputs": [],
   "source": [
    "df = data.copy()"
   ]
  },
  {
   "cell_type": "code",
   "execution_count": 14,
   "metadata": {},
   "outputs": [
    {
     "data": {
      "text/plain": [
       "(156038, 22)"
      ]
     },
     "execution_count": 14,
     "metadata": {},
     "output_type": "execute_result"
    }
   ],
   "source": [
    "df.shape"
   ]
  },
  {
   "cell_type": "code",
   "execution_count": 15,
   "metadata": {},
   "outputs": [
    {
     "data": {
      "text/plain": [
       "Index(['date', 'block', 'transaction', 'exchange', 'smartContract', 'maker',\n",
       "       'taker', 'side', 'baseAmount', 'baseCurrency', 'buyAmount',\n",
       "       'buyCurrency', 'sellAmount', 'sellCurrency', 'quoteAmount',\n",
       "       'quoteCurrency', 'price', 'quotePrice', 'energyFee', 'energyUsageTotal',\n",
       "       'fee', 'tradeAmount'],\n",
       "      dtype='object')"
      ]
     },
     "execution_count": 15,
     "metadata": {},
     "output_type": "execute_result"
    }
   ],
   "source": [
    "df.columns"
   ]
  },
  {
   "cell_type": "code",
   "execution_count": 16,
   "metadata": {},
   "outputs": [
    {
     "name": "stdout",
     "output_type": "stream",
     "text": [
      "<class 'pandas.core.frame.DataFrame'>\n",
      "RangeIndex: 156038 entries, 0 to 156037\n",
      "Data columns (total 22 columns):\n",
      " #   Column            Non-Null Count   Dtype  \n",
      "---  ------            --------------   -----  \n",
      " 0   date              156038 non-null  object \n",
      " 1   block             156038 non-null  object \n",
      " 2   transaction       156038 non-null  object \n",
      " 3   exchange          156038 non-null  object \n",
      " 4   smartContract     156038 non-null  object \n",
      " 5   maker             156038 non-null  object \n",
      " 6   taker             156038 non-null  object \n",
      " 7   side              156038 non-null  object \n",
      " 8   baseAmount        156038 non-null  float64\n",
      " 9   baseCurrency      156038 non-null  object \n",
      " 10  buyAmount         156038 non-null  float64\n",
      " 11  buyCurrency       156038 non-null  object \n",
      " 12  sellAmount        156038 non-null  float64\n",
      " 13  sellCurrency      156038 non-null  object \n",
      " 14  quoteAmount       156038 non-null  float64\n",
      " 15  quoteCurrency     156038 non-null  object \n",
      " 16  price             156038 non-null  float64\n",
      " 17  quotePrice        156038 non-null  float64\n",
      " 18  energyFee         156038 non-null  float64\n",
      " 19  energyUsageTotal  156038 non-null  float64\n",
      " 20  fee               156038 non-null  float64\n",
      " 21  tradeAmount       156038 non-null  float64\n",
      "dtypes: float64(10), object(12)\n",
      "memory usage: 26.2+ MB\n"
     ]
    }
   ],
   "source": [
    "df.info()"
   ]
  },
  {
   "cell_type": "markdown",
   "metadata": {},
   "source": [
    "### Formatting Date Column"
   ]
  },
  {
   "cell_type": "code",
   "execution_count": 17,
   "metadata": {},
   "outputs": [],
   "source": [
    "# Convert dictionary-like string to dictionary and extract the date string\n",
    "df['date'] = df['date'].apply(lambda x: ast.literal_eval(x)['date'])\n",
    "\n",
    "# Convert the date string to datetime format\n",
    "df['date'] = pd.to_datetime(df['date'], format='%Y-%m-%d')"
   ]
  },
  {
   "cell_type": "markdown",
   "metadata": {},
   "source": [
    "### Formatting Block Column"
   ]
  },
  {
   "cell_type": "code",
   "execution_count": 18,
   "metadata": {},
   "outputs": [],
   "source": [
    "# Convert dictionary-like string to dictionary\n",
    "df['block'] = df['block'].apply(ast.literal_eval)\n",
    "\n",
    "# Extracting different columns from the dictionary\n",
    "df['block_hash'] = df['block'].apply(lambda x: x['hash'])\n",
    "df['block_time'] = df['block'].apply(lambda x: x['timestamp']['time'])\n",
    "\n",
    "# Dropping the original 'block' column\n",
    "df.drop(columns=['block'], inplace=True)\n",
    "\n",
    "# Convert timestamp column to datetime format\n",
    "df['block_time'] = pd.to_datetime(df['block_time'], format='%Y-%m-%d %H:%M:%S')"
   ]
  },
  {
   "cell_type": "markdown",
   "metadata": {},
   "source": [
    "### Formatting Transaction Column"
   ]
  },
  {
   "cell_type": "code",
   "execution_count": 19,
   "metadata": {},
   "outputs": [],
   "source": [
    "# Convert dictionary-like string to dictionary\n",
    "df['transaction'] = df['transaction'].apply(ast.literal_eval)\n",
    "\n",
    "# Extracting the 'hash' value into a separate column\n",
    "df['transaction_hash'] = df['transaction'].apply(lambda x: x['hash'])\n",
    "\n",
    "# Dropping the original 'transaction' column\n",
    "df.drop(columns=['transaction'], inplace=True)"
   ]
  },
  {
   "cell_type": "markdown",
   "metadata": {},
   "source": [
    "### Formatting Exchange Column"
   ]
  },
  {
   "cell_type": "code",
   "execution_count": 20,
   "metadata": {},
   "outputs": [],
   "source": [
    "# Convert dictionary-like string to dictionary\n",
    "df['exchange'] = df['exchange'].apply(ast.literal_eval)\n",
    "\n",
    "# Extracting the 'address' value into a separate column\n",
    "df['exchange_address'] = df['exchange'].apply(lambda x: x['address']['address'])\n",
    "\n",
    "# Dropping the original 'exchange' column\n",
    "df.drop(columns=['exchange'], inplace=True)"
   ]
  },
  {
   "cell_type": "markdown",
   "metadata": {},
   "source": [
    "### Formatting Smart Contract Column"
   ]
  },
  {
   "cell_type": "code",
   "execution_count": 21,
   "metadata": {},
   "outputs": [],
   "source": [
    "# Convert dictionary-like string to dictionary\n",
    "df['smartContract'] = df['smartContract'].apply(ast.literal_eval)\n",
    "\n",
    "# Extracting the 'address' value into a separate column\n",
    "df['smart_contract_address'] = df['smartContract'].apply(lambda x: x['address']['address'])\n",
    "\n",
    "# Dropping the original 'smartContract' column\n",
    "df.drop(columns=['smartContract'], inplace=True)"
   ]
  },
  {
   "cell_type": "markdown",
   "metadata": {},
   "source": [
    "### Formatting Maker and Taker Column"
   ]
  },
  {
   "cell_type": "code",
   "execution_count": 22,
   "metadata": {},
   "outputs": [],
   "source": [
    "# Extracting the 'address' value into a separate column\n",
    "df['maker'] = df['maker'].apply(lambda x: ast.literal_eval(x)['address'])\n",
    "df['taker'] = df['taker'].apply(lambda x: ast.literal_eval(x)['address'])"
   ]
  },
  {
   "cell_type": "markdown",
   "metadata": {},
   "source": [
    "### Formatting Currency Columns"
   ]
  },
  {
   "cell_type": "code",
   "execution_count": 23,
   "metadata": {},
   "outputs": [],
   "source": [
    "# Extracting the 'name' and 'symbol' values into separate columns\n",
    "df['base_currency_name'] = df['baseCurrency'].apply(lambda x: ast.literal_eval(x)['name'])\n",
    "df['base_currency_symbol'] = df['baseCurrency'].apply(lambda x: ast.literal_eval(x)['symbol'])\n",
    "\n",
    "df['buy_currency_name'] = df['buyCurrency'].apply(lambda x: ast.literal_eval(x)['name'])\n",
    "df['buy_currency_symbol'] = df['buyCurrency'].apply(lambda x: ast.literal_eval(x)['symbol'])\n",
    "\n",
    "df['sell_currency_name'] = df['sellCurrency'].apply(lambda x: ast.literal_eval(x)['name'])\n",
    "df['sell_currency_symbol'] = df['sellCurrency'].apply(lambda x: ast.literal_eval(x)['symbol'])\n",
    "\n",
    "df['quote_currency_name'] = df['quoteCurrency'].apply(lambda x: ast.literal_eval(x)['name'])\n",
    "df['quote_currency_symbol'] = df['quoteCurrency'].apply(lambda x: ast.literal_eval(x)['symbol'])\n",
    "\n",
    "# Dropping the original columns\n",
    "df.drop(columns=['baseCurrency'], inplace=True)\n",
    "df.drop(columns=['buyCurrency'], inplace=True)\n",
    "df.drop(columns=['sellCurrency'], inplace=True)\n",
    "df.drop(columns=['quoteCurrency'], inplace=True)"
   ]
  },
  {
   "cell_type": "code",
   "execution_count": 24,
   "metadata": {},
   "outputs": [
    {
     "data": {
      "text/plain": [
       "Index(['date', 'maker', 'taker', 'side', 'baseAmount', 'buyAmount',\n",
       "       'sellAmount', 'quoteAmount', 'price', 'quotePrice', 'energyFee',\n",
       "       'energyUsageTotal', 'fee', 'tradeAmount', 'block_hash', 'block_time',\n",
       "       'transaction_hash', 'exchange_address', 'smart_contract_address',\n",
       "       'base_currency_name', 'base_currency_symbol', 'buy_currency_name',\n",
       "       'buy_currency_symbol', 'sell_currency_name', 'sell_currency_symbol',\n",
       "       'quote_currency_name', 'quote_currency_symbol'],\n",
       "      dtype='object')"
      ]
     },
     "execution_count": 24,
     "metadata": {},
     "output_type": "execute_result"
    }
   ],
   "source": [
    "df.columns"
   ]
  },
  {
   "cell_type": "markdown",
   "metadata": {},
   "source": [
    "### Renaming the Columns"
   ]
  },
  {
   "cell_type": "code",
   "execution_count": 25,
   "metadata": {},
   "outputs": [],
   "source": [
    "df.rename(columns={'baseAmount': 'base_amount',\n",
    "                   'buyAmount': 'buy_amount',\n",
    "                   'sellAmount': 'sell_amount',\n",
    "                   'quoteAmount': 'quote_amount',\n",
    "                   'tradeAmount': 'trade_amount_usd',\n",
    "                   'quotePrice': 'quote_price',\n",
    "                   'energyFee': 'energy_fee',\n",
    "                   'energyUsageTotal': 'energy_usage_total'}, inplace=True)"
   ]
  },
  {
   "cell_type": "markdown",
   "metadata": {},
   "source": [
    "### Rearranging the Order of Columns"
   ]
  },
  {
   "cell_type": "code",
   "execution_count": 26,
   "metadata": {},
   "outputs": [],
   "source": [
    "desired_order = ['transaction_hash', 'date', 'block_hash', 'block_time', 'side',\n",
    "                 'exchange_address', 'smart_contract_address', 'maker', 'taker',\n",
    "                 'buy_currency_name', 'buy_currency_symbol', 'buy_amount',\n",
    "                 'sell_currency_name', 'sell_currency_symbol', 'sell_amount',\n",
    "                 'base_currency_name', 'base_currency_symbol', 'base_amount',\n",
    "                 'quote_currency_name', 'quote_currency_symbol', 'quote_amount',\n",
    "                 'trade_amount_usd', 'price', 'quote_price', 'energy_fee', 'fee', \n",
    "                 'energy_usage_total']\n",
    "\n",
    "df1 = df[desired_order]"
   ]
  },
  {
   "cell_type": "code",
   "execution_count": 27,
   "metadata": {},
   "outputs": [
    {
     "name": "stdout",
     "output_type": "stream",
     "text": [
      "<class 'pandas.core.frame.DataFrame'>\n",
      "RangeIndex: 156038 entries, 0 to 156037\n",
      "Data columns (total 27 columns):\n",
      " #   Column                  Non-Null Count   Dtype         \n",
      "---  ------                  --------------   -----         \n",
      " 0   transaction_hash        156038 non-null  object        \n",
      " 1   date                    156038 non-null  datetime64[ns]\n",
      " 2   block_hash              156038 non-null  object        \n",
      " 3   block_time              156038 non-null  datetime64[ns]\n",
      " 4   side                    156038 non-null  object        \n",
      " 5   exchange_address        156038 non-null  object        \n",
      " 6   smart_contract_address  156038 non-null  object        \n",
      " 7   maker                   156038 non-null  object        \n",
      " 8   taker                   156038 non-null  object        \n",
      " 9   buy_currency_name       156038 non-null  object        \n",
      " 10  buy_currency_symbol     156038 non-null  object        \n",
      " 11  buy_amount              156038 non-null  float64       \n",
      " 12  sell_currency_name      156038 non-null  object        \n",
      " 13  sell_currency_symbol    156038 non-null  object        \n",
      " 14  sell_amount             156038 non-null  float64       \n",
      " 15  base_currency_name      156038 non-null  object        \n",
      " 16  base_currency_symbol    156038 non-null  object        \n",
      " 17  base_amount             156038 non-null  float64       \n",
      " 18  quote_currency_name     156038 non-null  object        \n",
      " 19  quote_currency_symbol   156038 non-null  object        \n",
      " 20  quote_amount            156038 non-null  float64       \n",
      " 21  trade_amount_usd        156038 non-null  float64       \n",
      " 22  price                   156038 non-null  float64       \n",
      " 23  quote_price             156038 non-null  float64       \n",
      " 24  energy_fee              156038 non-null  float64       \n",
      " 25  fee                     156038 non-null  float64       \n",
      " 26  energy_usage_total      156038 non-null  float64       \n",
      "dtypes: datetime64[ns](2), float64(10), object(15)\n",
      "memory usage: 32.1+ MB\n"
     ]
    }
   ],
   "source": [
    "df1.info()"
   ]
  },
  {
   "cell_type": "code",
   "execution_count": 28,
   "metadata": {},
   "outputs": [
    {
     "data": {
      "text/html": [
       "<div>\n",
       "<style scoped>\n",
       "    .dataframe tbody tr th:only-of-type {\n",
       "        vertical-align: middle;\n",
       "    }\n",
       "\n",
       "    .dataframe tbody tr th {\n",
       "        vertical-align: top;\n",
       "    }\n",
       "\n",
       "    .dataframe thead th {\n",
       "        text-align: right;\n",
       "    }\n",
       "</style>\n",
       "<table border=\"1\" class=\"dataframe\">\n",
       "  <thead>\n",
       "    <tr style=\"text-align: right;\">\n",
       "      <th></th>\n",
       "      <th>transaction_hash</th>\n",
       "      <th>date</th>\n",
       "      <th>block_hash</th>\n",
       "      <th>block_time</th>\n",
       "      <th>side</th>\n",
       "      <th>exchange_address</th>\n",
       "      <th>smart_contract_address</th>\n",
       "      <th>maker</th>\n",
       "      <th>taker</th>\n",
       "      <th>buy_currency_name</th>\n",
       "      <th>...</th>\n",
       "      <th>base_amount</th>\n",
       "      <th>quote_currency_name</th>\n",
       "      <th>quote_currency_symbol</th>\n",
       "      <th>quote_amount</th>\n",
       "      <th>trade_amount_usd</th>\n",
       "      <th>price</th>\n",
       "      <th>quote_price</th>\n",
       "      <th>energy_fee</th>\n",
       "      <th>fee</th>\n",
       "      <th>energy_usage_total</th>\n",
       "    </tr>\n",
       "  </thead>\n",
       "  <tbody>\n",
       "    <tr>\n",
       "      <th>0</th>\n",
       "      <td>bce7221bcee265207c65d606aa7bb98fb733b212c078b3...</td>\n",
       "      <td>2024-03-21</td>\n",
       "      <td>0x0000000003953f7f2ef0e52ca86872bea5e1d70450cc...</td>\n",
       "      <td>2024-03-21 00:00:09</td>\n",
       "      <td>BUY</td>\n",
       "      <td>TKWJdrQkqHisa1X8HUdHEfREvTzw4pMAaY</td>\n",
       "      <td>TLKyq7eJ4YKbs3TGEvoBJWkAXWYQKWo2Nn</td>\n",
       "      <td>TKzxdSv2FZKQrEqkKVgp5DcwEXBEKMg2Ax</td>\n",
       "      <td>TQooBX9o8iSSprLWW96YShBogx7Uwisuim</td>\n",
       "      <td>Tether USD</td>\n",
       "      <td>...</td>\n",
       "      <td>3.291877e+03</td>\n",
       "      <td>BitTorrent</td>\n",
       "      <td>BTT</td>\n",
       "      <td>2.319382e+09</td>\n",
       "      <td>3292.457278</td>\n",
       "      <td>704577.415733</td>\n",
       "      <td>704577.415733</td>\n",
       "      <td>0.0</td>\n",
       "      <td>0.0</td>\n",
       "      <td>90473.0</td>\n",
       "    </tr>\n",
       "    <tr>\n",
       "      <th>1</th>\n",
       "      <td>bce7221bcee265207c65d606aa7bb98fb733b212c078b3...</td>\n",
       "      <td>2024-03-21</td>\n",
       "      <td>0x0000000003953f7f2ef0e52ca86872bea5e1d70450cc...</td>\n",
       "      <td>2024-03-21 00:00:09</td>\n",
       "      <td>SELL</td>\n",
       "      <td>TKWJdrQkqHisa1X8HUdHEfREvTzw4pMAaY</td>\n",
       "      <td>TLKyq7eJ4YKbs3TGEvoBJWkAXWYQKWo2Nn</td>\n",
       "      <td>TKzxdSv2FZKQrEqkKVgp5DcwEXBEKMg2Ax</td>\n",
       "      <td>TQooBX9o8iSSprLWW96YShBogx7Uwisuim</td>\n",
       "      <td>Tether USD</td>\n",
       "      <td>...</td>\n",
       "      <td>2.319382e+09</td>\n",
       "      <td>Tether USD</td>\n",
       "      <td>USDT</td>\n",
       "      <td>3.291877e+03</td>\n",
       "      <td>3292.457278</td>\n",
       "      <td>704577.415733</td>\n",
       "      <td>0.000001</td>\n",
       "      <td>0.0</td>\n",
       "      <td>0.0</td>\n",
       "      <td>90473.0</td>\n",
       "    </tr>\n",
       "    <tr>\n",
       "      <th>2</th>\n",
       "      <td>2f90ea002f6c17e5d367d709c610b8444c07b14bd0f422...</td>\n",
       "      <td>2024-03-21</td>\n",
       "      <td>0x0000000003953f8145f880657394673bed03406be8f9...</td>\n",
       "      <td>2024-03-21 00:00:15</td>\n",
       "      <td>BUY</td>\n",
       "      <td>TKWJdrQkqHisa1X8HUdHEfREvTzw4pMAaY</td>\n",
       "      <td>TFGDbUyP8xez44C76fin3bn3Ss6jugoUwJ</td>\n",
       "      <td>TKzxdSv2FZKQrEqkKVgp5DcwEXBEKMg2Ax</td>\n",
       "      <td>TKzxdSv2FZKQrEqkKVgp5DcwEXBEKMg2Ax</td>\n",
       "      <td>Tether USD</td>\n",
       "      <td>...</td>\n",
       "      <td>5.409656e+01</td>\n",
       "      <td>Wrapped TRX</td>\n",
       "      <td>WTRX</td>\n",
       "      <td>4.467907e+02</td>\n",
       "      <td>54.106087</td>\n",
       "      <td>8.259133</td>\n",
       "      <td>8.259133</td>\n",
       "      <td>0.0</td>\n",
       "      <td>0.0</td>\n",
       "      <td>363974.0</td>\n",
       "    </tr>\n",
       "    <tr>\n",
       "      <th>3</th>\n",
       "      <td>2f90ea002f6c17e5d367d709c610b8444c07b14bd0f422...</td>\n",
       "      <td>2024-03-21</td>\n",
       "      <td>0x0000000003953f8145f880657394673bed03406be8f9...</td>\n",
       "      <td>2024-03-21 00:00:15</td>\n",
       "      <td>SELL</td>\n",
       "      <td>TKWJdrQkqHisa1X8HUdHEfREvTzw4pMAaY</td>\n",
       "      <td>TFGDbUyP8xez44C76fin3bn3Ss6jugoUwJ</td>\n",
       "      <td>TKzxdSv2FZKQrEqkKVgp5DcwEXBEKMg2Ax</td>\n",
       "      <td>TKzxdSv2FZKQrEqkKVgp5DcwEXBEKMg2Ax</td>\n",
       "      <td>Tether USD</td>\n",
       "      <td>...</td>\n",
       "      <td>4.467907e+02</td>\n",
       "      <td>Tether USD</td>\n",
       "      <td>USDT</td>\n",
       "      <td>5.409656e+01</td>\n",
       "      <td>54.106087</td>\n",
       "      <td>8.259133</td>\n",
       "      <td>0.121078</td>\n",
       "      <td>0.0</td>\n",
       "      <td>0.0</td>\n",
       "      <td>363974.0</td>\n",
       "    </tr>\n",
       "    <tr>\n",
       "      <th>4</th>\n",
       "      <td>98506438784b79fbb83d6f1f5b1b936f0cc3219e1d5a12...</td>\n",
       "      <td>2024-03-21</td>\n",
       "      <td>0x0000000003953f9f0ca69836c513aba61df2d3a8b90a...</td>\n",
       "      <td>2024-03-21 00:01:45</td>\n",
       "      <td>SELL</td>\n",
       "      <td>TKWJdrQkqHisa1X8HUdHEfREvTzw4pMAaY</td>\n",
       "      <td>TLKyq7eJ4YKbs3TGEvoBJWkAXWYQKWo2Nn</td>\n",
       "      <td>TKzxdSv2FZKQrEqkKVgp5DcwEXBEKMg2Ax</td>\n",
       "      <td>TQooBX9o8iSSprLWW96YShBogx7Uwisuim</td>\n",
       "      <td>BitTorrent</td>\n",
       "      <td>...</td>\n",
       "      <td>3.291804e+03</td>\n",
       "      <td>BitTorrent</td>\n",
       "      <td>BTT</td>\n",
       "      <td>2.333310e+09</td>\n",
       "      <td>3292.384317</td>\n",
       "      <td>0.000001</td>\n",
       "      <td>708823.966192</td>\n",
       "      <td>0.0</td>\n",
       "      <td>0.0</td>\n",
       "      <td>90075.0</td>\n",
       "    </tr>\n",
       "  </tbody>\n",
       "</table>\n",
       "<p>5 rows × 27 columns</p>\n",
       "</div>"
      ],
      "text/plain": [
       "                                    transaction_hash       date  \\\n",
       "0  bce7221bcee265207c65d606aa7bb98fb733b212c078b3... 2024-03-21   \n",
       "1  bce7221bcee265207c65d606aa7bb98fb733b212c078b3... 2024-03-21   \n",
       "2  2f90ea002f6c17e5d367d709c610b8444c07b14bd0f422... 2024-03-21   \n",
       "3  2f90ea002f6c17e5d367d709c610b8444c07b14bd0f422... 2024-03-21   \n",
       "4  98506438784b79fbb83d6f1f5b1b936f0cc3219e1d5a12... 2024-03-21   \n",
       "\n",
       "                                          block_hash          block_time  \\\n",
       "0  0x0000000003953f7f2ef0e52ca86872bea5e1d70450cc... 2024-03-21 00:00:09   \n",
       "1  0x0000000003953f7f2ef0e52ca86872bea5e1d70450cc... 2024-03-21 00:00:09   \n",
       "2  0x0000000003953f8145f880657394673bed03406be8f9... 2024-03-21 00:00:15   \n",
       "3  0x0000000003953f8145f880657394673bed03406be8f9... 2024-03-21 00:00:15   \n",
       "4  0x0000000003953f9f0ca69836c513aba61df2d3a8b90a... 2024-03-21 00:01:45   \n",
       "\n",
       "   side                    exchange_address  \\\n",
       "0   BUY  TKWJdrQkqHisa1X8HUdHEfREvTzw4pMAaY   \n",
       "1  SELL  TKWJdrQkqHisa1X8HUdHEfREvTzw4pMAaY   \n",
       "2   BUY  TKWJdrQkqHisa1X8HUdHEfREvTzw4pMAaY   \n",
       "3  SELL  TKWJdrQkqHisa1X8HUdHEfREvTzw4pMAaY   \n",
       "4  SELL  TKWJdrQkqHisa1X8HUdHEfREvTzw4pMAaY   \n",
       "\n",
       "               smart_contract_address                               maker  \\\n",
       "0  TLKyq7eJ4YKbs3TGEvoBJWkAXWYQKWo2Nn  TKzxdSv2FZKQrEqkKVgp5DcwEXBEKMg2Ax   \n",
       "1  TLKyq7eJ4YKbs3TGEvoBJWkAXWYQKWo2Nn  TKzxdSv2FZKQrEqkKVgp5DcwEXBEKMg2Ax   \n",
       "2  TFGDbUyP8xez44C76fin3bn3Ss6jugoUwJ  TKzxdSv2FZKQrEqkKVgp5DcwEXBEKMg2Ax   \n",
       "3  TFGDbUyP8xez44C76fin3bn3Ss6jugoUwJ  TKzxdSv2FZKQrEqkKVgp5DcwEXBEKMg2Ax   \n",
       "4  TLKyq7eJ4YKbs3TGEvoBJWkAXWYQKWo2Nn  TKzxdSv2FZKQrEqkKVgp5DcwEXBEKMg2Ax   \n",
       "\n",
       "                                taker buy_currency_name  ...   base_amount  \\\n",
       "0  TQooBX9o8iSSprLWW96YShBogx7Uwisuim        Tether USD  ...  3.291877e+03   \n",
       "1  TQooBX9o8iSSprLWW96YShBogx7Uwisuim        Tether USD  ...  2.319382e+09   \n",
       "2  TKzxdSv2FZKQrEqkKVgp5DcwEXBEKMg2Ax        Tether USD  ...  5.409656e+01   \n",
       "3  TKzxdSv2FZKQrEqkKVgp5DcwEXBEKMg2Ax        Tether USD  ...  4.467907e+02   \n",
       "4  TQooBX9o8iSSprLWW96YShBogx7Uwisuim        BitTorrent  ...  3.291804e+03   \n",
       "\n",
       "   quote_currency_name quote_currency_symbol  quote_amount  trade_amount_usd  \\\n",
       "0           BitTorrent                   BTT  2.319382e+09       3292.457278   \n",
       "1           Tether USD                  USDT  3.291877e+03       3292.457278   \n",
       "2          Wrapped TRX                  WTRX  4.467907e+02         54.106087   \n",
       "3           Tether USD                  USDT  5.409656e+01         54.106087   \n",
       "4           BitTorrent                   BTT  2.333310e+09       3292.384317   \n",
       "\n",
       "           price    quote_price  energy_fee  fee energy_usage_total  \n",
       "0  704577.415733  704577.415733         0.0  0.0            90473.0  \n",
       "1  704577.415733       0.000001         0.0  0.0            90473.0  \n",
       "2       8.259133       8.259133         0.0  0.0           363974.0  \n",
       "3       8.259133       0.121078         0.0  0.0           363974.0  \n",
       "4       0.000001  708823.966192         0.0  0.0            90075.0  \n",
       "\n",
       "[5 rows x 27 columns]"
      ]
     },
     "execution_count": 28,
     "metadata": {},
     "output_type": "execute_result"
    }
   ],
   "source": [
    "df1.head()"
   ]
  },
  {
   "cell_type": "code",
   "execution_count": 29,
   "metadata": {},
   "outputs": [],
   "source": [
    "df1.to_csv(r'formatted_tron_dexs_data.csv', index=False)"
   ]
  },
  {
   "cell_type": "code",
   "execution_count": 3,
   "metadata": {},
   "outputs": [],
   "source": [
    "data = pd.read_csv(r'formatted_tron_dexs_data.csv')"
   ]
  },
  {
   "cell_type": "code",
   "execution_count": 4,
   "metadata": {},
   "outputs": [
    {
     "data": {
      "text/plain": [
       "(156038, 27)"
      ]
     },
     "execution_count": 4,
     "metadata": {},
     "output_type": "execute_result"
    }
   ],
   "source": [
    "data.shape"
   ]
  },
  {
   "cell_type": "code",
   "execution_count": 5,
   "metadata": {},
   "outputs": [
    {
     "data": {
      "text/plain": [
       "Index(['transaction_hash', 'date', 'block_hash', 'block_time', 'side',\n",
       "       'exchange_address', 'smart_contract_address', 'maker', 'taker',\n",
       "       'buy_currency_name', 'buy_currency_symbol', 'buy_amount',\n",
       "       'sell_currency_name', 'sell_currency_symbol', 'sell_amount',\n",
       "       'base_currency_name', 'base_currency_symbol', 'base_amount',\n",
       "       'quote_currency_name', 'quote_currency_symbol', 'quote_amount',\n",
       "       'trade_amount_usd', 'price', 'quote_price', 'energy_fee', 'fee',\n",
       "       'energy_usage_total'],\n",
       "      dtype='object')"
      ]
     },
     "execution_count": 5,
     "metadata": {},
     "output_type": "execute_result"
    }
   ],
   "source": [
    "data.columns"
   ]
  },
  {
   "cell_type": "code",
   "execution_count": 6,
   "metadata": {},
   "outputs": [
    {
     "data": {
      "text/plain": [
       "TKWJdrQkqHisa1X8HUdHEfREvTzw4pMAaY    156004\n",
       "THkvXfUaRmpkRcfh5RpokxfXBN9U3eRGj7        34\n",
       "Name: exchange_address, dtype: int64"
      ]
     },
     "execution_count": 6,
     "metadata": {},
     "output_type": "execute_result"
    }
   ],
   "source": [
    "data['exchange_address'].value_counts()"
   ]
  },
  {
   "cell_type": "code",
   "execution_count": 7,
   "metadata": {},
   "outputs": [
    {
     "data": {
      "text/plain": [
       "TKzxdSv2FZKQrEqkKVgp5DcwEXBEKMg2Ax    128984\n",
       "TDKG6QZLSWx416pb8PHmAMRyLr3JXTPvbC      5392\n",
       "TGKLeTRMJyzpHq9ypyukxc3ee4DAyyfbqB      5176\n",
       "TX1NyifLwcaZANCPdGc3wwreHVnWNAVPVX      4000\n",
       "TJ5UAcbDSPiRWyiUxDtkqgosYWbZyYEyuG      2414\n",
       "TJQERRPLty1DpVzcwXHphSRMpzLbqEshSQ      2116\n",
       "TYwvVvkX1qr2zMiYriAtqSPS6Dx7o88wGJ      1934\n",
       "TH97hbKZpsQXydGMJRfeGH1cVqdWeoqtkf      1220\n",
       "TMsrtDpgsYzdroyQU1qD4cUF72faVb8xz9       978\n",
       "TDQLENYEsxQKkPk9c8VjrHcPoM4z8FwQ7S       622\n",
       "TBrJUrRJ1Cuzvoki7NbFj5nsf2G6ZVS6Nx       584\n",
       "TGBsofXdwxynkKRo2u9RgHFvGFNE3NLkiW       562\n",
       "TF912tbb7z2w6C9wK3uY68w42JqB9pgCJG       492\n",
       "TBGhEMTSr7LQqUSPCNv6tkcD2tnvfYPJKA       418\n",
       "TCCVCWM88BRhSAdnDxfx4HvRPEcB7xGgRv       160\n",
       "TPdthWzUHfepu2TEBimTFi1sBWtGYi3Ksa       158\n",
       "TVi6dday9Ae32uHdp13uvhfqKy9zt9bGDb       138\n",
       "TKMDeTqEqaUzgSoUVdmZYV5Xp1h2oR7qvt       110\n",
       "TWv6rckJAYyFGNQ6k4B6gwus7rQKwriviJ       102\n",
       "TY7J38273wJHsG44LmttrJMSnXxd8oNpGR        86\n",
       "TQBBr9Juw7MKDw7fthA3MNDkGzUEsbT7yb        70\n",
       "TQCdHD86uoXBjARcSsJ8D1Q6zxSxv3gXsy        56\n",
       "TVxo9SVEHY4TjN66Cnu94wMxfkaxJvJiHi        46\n",
       "TEYnP7BdffyEEv8N8yfTDCFMGsqg5gwSzq        40\n",
       "TAKGgdzSvyCu5sBuwENgydMk4UrP13z67S        34\n",
       "TWwC3MbmXpBoRo4XX2xhta1YzFrFSbTbiz        28\n",
       "TS5v9Z9frcc6zerQmUsLBCEp28fdabNZC7        28\n",
       "TWPTf2DFwcnf1mDeMMtATe6f2zeQaDRFyb        24\n",
       "TGKdNXyXduVYrxv3CskpieJmHbjgLzXgJi        18\n",
       "TXEL2uKhvymU4w61zyNdphco1SraLwMyrH        14\n",
       "TXhCQf1i4NEqxVuyMi1erBeEHCb3JF3kak        12\n",
       "TQV8pVs2YF4bKTZSzCvzNdKRdzMpub8kmb        12\n",
       "TF4LBxy9FdDFudHkmb8djbYPEoMDajMcvW         8\n",
       "TSz6AASx3fP5WCvYDp6DtqkZ5a5WvEdd4C         2\n",
       "Name: maker, dtype: int64"
      ]
     },
     "execution_count": 7,
     "metadata": {},
     "output_type": "execute_result"
    }
   ],
   "source": [
    "data['maker'].value_counts()"
   ]
  }
 ],
 "metadata": {
  "kernelspec": {
   "display_name": "chainq",
   "language": "python",
   "name": "python3"
  },
  "language_info": {
   "codemirror_mode": {
    "name": "ipython",
    "version": 3
   },
   "file_extension": ".py",
   "mimetype": "text/x-python",
   "name": "python",
   "nbconvert_exporter": "python",
   "pygments_lexer": "ipython3",
   "version": "3.7.9"
  }
 },
 "nbformat": 4,
 "nbformat_minor": 2
}
